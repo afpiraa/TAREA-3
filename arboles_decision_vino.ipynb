{
 "cells": [
  {
   "cell_type": "code",
   "execution_count": null,
   "id": "1c98894e-cf51-4567-a1ac-b9091c8003ce",
   "metadata": {},
   "outputs": [],
   "source": [
    "pip install pandas matplotlib seaborn scikit-learn"
   ]
  },
  {
   "cell_type": "code",
   "execution_count": null,
   "id": "112781c1-d57c-4867-84a8-7ed2797e6a41",
   "metadata": {},
   "outputs": [],
   "source": [
    "import pandas as pd\n",
    "import numpy as np\n",
    "import seaborn as sns\n",
    "import matplotlib.pyplot as plt\n",
    "from sklearn.model_selection import train_test_split\n",
    "from sklearn.preprocessing import StandardScaler\n",
    "from sklearn.linear_model import LinearRegression, LogisticRegression\n",
    "from sklearn.tree import DecisionTreeClassifier, plot_tree\n",
    "from sklearn.metrics import classification_report, confusion_matrix, mean_squared_error, r2_score\n"
   ]
  },
  {
   "cell_type": "code",
   "execution_count": null,
   "id": "32f76355-8602-47d4-86d9-4bb91b47fb8a",
   "metadata": {},
   "outputs": [],
   "source": [
    "# 1. Cargar datos\n",
    "df = pd.read_csv('winequality-red.csv', sep=';')  # asegúrate del nombre del archivo\n",
    "print(df.head())"
   ]
  },
  {
   "cell_type": "code",
   "execution_count": null,
   "id": "b093ea56-872a-47fe-b2b4-35dad2786595",
   "metadata": {},
   "outputs": [],
   "source": [
    "# 2. Análisis exploratorio\n",
    "print(df.describe())\n",
    "print(df.info())\n",
    "\n",
    "# Correlaciones\n",
    "plt.figure(figsize=(10,8))\n",
    "sns.heatmap(df.corr(), annot=True, cmap='coolwarm')\n",
    "plt.title('Mapa de calor de correlaciones')\n",
    "plt.show()\n",
    "\n",
    "# Distribución de la variable objetivo\n",
    "sns.countplot(x='quality', data=df)\n",
    "plt.title('Distribución de la calidad del vino')\n",
    "plt.show()"
   ]
  },
  {
   "cell_type": "code",
   "execution_count": null,
   "id": "d1eb888c-f1a3-47fe-af64-7bf73d1e868f",
   "metadata": {},
   "outputs": [],
   "source": [
    "# 3. Preprocesamiento\n",
    "# No hay valores nulos, se normalizarán variables\n",
    "X = df.drop('quality', axis=1)\n",
    "y = df['quality']\n",
    "\n",
    "# Clasificación binaria para Regresión Logística y Árbol\n",
    "# 0 = mala calidad (<=5), 1 = buena calidad (>=6)\n",
    "y_binaria = (y >= 6).astype(int)\n",
    "\n",
    "# Escalamiento\n",
    "scaler = StandardScaler()\n",
    "X_scaled = scaler.fit_transform(X)"
   ]
  },
  {
   "cell_type": "code",
   "execution_count": null,
   "id": "5d381d11-bde4-4748-8b71-ac40ca7c9dc1",
   "metadata": {},
   "outputs": [],
   "source": [
    "# 4. División Train/Test\n",
    "X_train, X_test, y_train_reg, y_test_reg = train_test_split(X_scaled, y, test_size=0.2, random_state=42)\n",
    "_, _, y_train_cls, y_test_cls = train_test_split(X_scaled, y_binaria, test_size=0.2, random_state=42)"
   ]
  },
  {
   "cell_type": "code",
   "execution_count": null,
   "id": "e50d47ab-edc8-46e4-b8f5-0c6eb46989eb",
   "metadata": {},
   "outputs": [],
   "source": [
    "# 5. Modelos\n",
    "\n",
    "# Árbol de Decisión\n",
    "tree = DecisionTreeClassifier(max_depth=5, random_state=42)\n",
    "tree.fit(X_train, y_train_cls)\n",
    "y_pred_tree = tree.predict(X_test)\n",
    "\n",
    "print(\"\\n[Árbol de Decisión]\")\n",
    "print(confusion_matrix(y_test_cls, y_pred_tree))\n",
    "print(classification_report(y_test_cls, y_pred_tree))"
   ]
  },
  {
   "cell_type": "code",
   "execution_count": null,
   "id": "3b304006-2b10-4c4e-9762-a35e6296ec83",
   "metadata": {},
   "outputs": [],
   "source": [
    "# 6. Visualizaciones de resultados\n",
    "\n",
    "# Regresión Lineal: comparación real vs predicho\n",
    "plt.figure(figsize=(6,6))\n",
    "sns.scatterplot(x=y_test_reg, y=y_pred_rl)\n",
    "plt.xlabel('Calidad real')\n",
    "plt.ylabel('Calidad predicha')\n",
    "plt.title('Regresión Lineal: Real vs Predicho')\n",
    "plt.show()\n",
    "\n",
    "# Árbol de decisión\n",
    "plt.figure(figsize=(15, 8))\n",
    "plot_tree(tree, feature_names=df.columns[:-1], class_names=[\"Mala\", \"Buena\"], filled=True)\n",
    "plt.title('Árbol de Decisión')\n",
    "plt.show()\n",
    "\n",
    "# 7. Importancia de variables\n",
    "importancias = pd.Series(tree.feature_importances_, index=df.columns[:-1])\n",
    "importancias.nlargest(10).plot(kind='barh')\n",
    "plt.title('Importancia de características (Árbol)')\n",
    "plt.show()"
   ]
  }
 ],
 "metadata": {
  "kernelspec": {
   "display_name": "Python [conda env:base] *",
   "language": "python",
   "name": "conda-base-py"
  },
  "language_info": {
   "codemirror_mode": {
    "name": "ipython",
    "version": 3
   },
   "file_extension": ".py",
   "mimetype": "text/x-python",
   "name": "python",
   "nbconvert_exporter": "python",
   "pygments_lexer": "ipython3",
   "version": "3.12.7"
  }
 },
 "nbformat": 4,
 "nbformat_minor": 5
}
