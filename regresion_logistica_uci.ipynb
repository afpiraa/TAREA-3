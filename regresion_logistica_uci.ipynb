{
 "cells": [
  {
   "cell_type": "code",
   "execution_count": null,
   "id": "405ae2e0-2b09-4263-901f-670ace87a0d1",
   "metadata": {},
   "outputs": [],
   "source": [
    "import pandas as pd\n",
    "import numpy as np\n",
    "\n",
    "# Cargar el conjunto de datos\n",
    "df = pd.read_csv('car dataset.csv')\n",
    "\n",
    "# Mostrar las primeras filas del conjunto de datos\n",
    "df.head()"
   ]
  },
  {
   "cell_type": "code",
   "execution_count": null,
   "id": "f1763bd3-f3aa-4786-bf72-587d072b7024",
   "metadata": {},
   "outputs": [],
   "source": [
    "# Información general del conjunto de datos\n",
    "df.info()\n",
    "\n",
    "# Estadísticas descriptivas\n",
    "df.describe()\n",
    "\n",
    "# Verificar valores faltantes\n",
    "df.isnull().sum()\n",
    "\n",
    "# Verificar valores únicos por columna\n",
    "df.nunique()"
   ]
  },
  {
   "cell_type": "code",
   "execution_count": null,
   "id": "59fff05a-7e59-4cf0-a33c-846ffc34441b",
   "metadata": {},
   "outputs": [],
   "source": [
    "# Convertir columnas numéricas con valores no numéricos a NaN\n",
    "df['ca'] = pd.to_numeric(df['ca'], errors='coerce')\n",
    "df['thal'] = pd.to_numeric(df['thal'], errors='coerce')\n",
    "\n",
    "# Imputar valores faltantes con la mediana\n",
    "df['ca'].fillna(df['ca'].median(), inplace=True)\n",
    "df['thal'].fillna(df['thal'].median(), inplace=True)\n",
    "\n",
    "# Codificar variables categóricas\n",
    "df['sex'] = df['sex'].astype('category')\n",
    "df['cp'] = df['cp'].astype('category')\n",
    "df['fbs'] = df['fbs'].astype('category')\n",
    "df['restecg'] = df['restecg'].astype('category')\n",
    "df['exang'] = df['exang'].astype('category')\n",
    "df['slope'] = df['slope'].astype('category')\n",
    "df['ca'] = df['ca'].astype('category')\n",
    "df['thal'] = df['thal'].astype('category')"
   ]
  },
  {
   "cell_type": "code",
   "execution_count": null,
   "id": "57a29d9c-ddaa-4aa3-8149-e2e6b5c01b12",
   "metadata": {},
   "outputs": [],
   "source": [
    "import seaborn as sns\n",
    "import matplotlib.pyplot as plt\n",
    "\n",
    "# Matriz de correlación\n",
    "corr_matrix = df.corr()\n",
    "plt.figure(figsize=(10, 8))\n",
    "sns.heatmap(corr_matrix, annot=True, cmap='coolwarm', fmt='.2f')\n",
    "plt.title('Matriz de Correlación')\n",
    "plt.show()\n",
    "\n",
    "# Distribución de la variable objetivo\n",
    "sns.countplot(x='condition', data=df)\n",
    "plt.title('Distribución de la variable objetivo')\n",
    "plt.show()"
   ]
  },
  {
   "cell_type": "code",
   "execution_count": null,
   "id": "fe469ebc-9649-4f2f-907e-1a93a0a1a094",
   "metadata": {},
   "outputs": [],
   "source": [
    "# Seleccionar características con alta correlación con la variable objetivo\n",
    "target_corr = corr_matrix['condition'].sort_values(ascending=False)\n",
    "print(target_corr)"
   ]
  },
  {
   "cell_type": "code",
   "execution_count": null,
   "id": "5c280827-850b-4b7b-8421-e8348cfc364e",
   "metadata": {},
   "outputs": [],
   "source": [
    "from sklearn.model_selection import train_test_split\n",
    "\n",
    "# Definir variables independientes y dependientes\n",
    "X = df.drop(columns=['condition'])\n",
    "y = df['condition']\n",
    "\n",
    "# Dividir en entrenamiento y prueba\n",
    "X_train, X_test, y_train, y_test = train_test_split(X, y, test_size=0.2, random_state=42)"
   ]
  },
  {
   "cell_type": "code",
   "execution_count": null,
   "id": "12b068ec-73d2-45b9-a120-a680f31d8169",
   "metadata": {},
   "outputs": [],
   "source": [
    "from sklearn.linear_model import LogisticRegression\n",
    "from sklearn.tree import DecisionTreeClassifier\n",
    "from sklearn.linear_model import LinearRegression\n",
    "\n",
    "# Inicializar modelos\n",
    "logreg = LogisticRegression(max_iter=1000)\n",
    "dt = DecisionTreeClassifier(random_state=42)\n",
    "linreg = LinearRegression()\n",
    "\n",
    "# Entrenar modelos\n",
    "logreg.fit(X_train, y_train)\n",
    "dt.fit(X_train, y_train)\n",
    "linreg.fit(X_train, y_train)\n"
   ]
  },
  {
   "cell_type": "code",
   "execution_count": null,
   "id": "18b60179-5035-4135-94f5-b1ac2c030357",
   "metadata": {},
   "outputs": [],
   "source": [
    "from sklearn.metrics import classification_report, accuracy_score\n",
    "\n",
    "# Predicciones\n",
    "y_pred_logreg = logreg.predict(X_test)\n",
    "y_pred_dt = dt.predict(X_test)\n",
    "\n",
    "# Evaluación de Regresión Logística\n",
    "print(\"Regresión Logística:\")\n",
    "print(classification_report(y_test, y_pred_logreg))\n",
    "\n",
    "# Evaluación de Árbol de Decisión\n",
    "print(\"Árbol de Decisión:\")\n",
    "print(classification_report(y_test, y_pred_dt))\n",
    "\n",
    "# Evaluación de Regresión Lineal\n",
    "print(\"Regresión Lineal:\")\n",
    "y_pred_linreg = linreg.predict(X_test)\n",
    "y_pred_linreg = np.round(y_pred_linreg).astype(int)\n",
    "print(classification_report(y_test, y_pred_linreg))"
   ]
  },
  {
   "cell_type": "code",
   "execution_count": null,
   "id": "a53ed519-c570-43db-bf12-0c6e0d92badb",
   "metadata": {},
   "outputs": [],
   "source": [
    "from sklearn.metrics import confusion_matrix\n",
    "\n",
    "# Matriz de confusión para Regresión Logística\n",
    "cm_logreg = confusion_matrix(y_test, y_pred_logreg)\n",
    "sns.heatmap(cm_logreg, annot=True, fmt='d', cmap='Blues', xticklabels=['No Enfermedad', 'Enfermedad'], yticklabels=['No Enfermedad', 'Enfermedad'])\n",
    "plt.title('Matriz de Confusión - Regresión Logística')\n",
    "plt.xlabel('Predicción')\n",
    "plt.ylabel('Realidad')\n",
    "plt.show()\n",
    "\n",
    "# Matriz de confusión para Árbol de Decisión\n",
    "cm_dt = confusion_matrix(y_test, y_pred_dt)\n",
    "sns.heatmap(cm_dt, annot=True, fmt='d', cmap='Blues', xticklabels=['No Enfermedad', 'Enfermedad'], yticklabels=['No Enfermedad', 'Enfermedad'])\n",
    "plt.title('Matriz de Confusión - Árbol de Decisión')\n",
    "plt.xlabel('Predicción')\n",
    "plt.ylabel('Realidad')\n",
    "plt.show()"
   ]
  }
 ],
 "metadata": {
  "kernelspec": {
   "display_name": "Python [conda env:base] *",
   "language": "python",
   "name": "conda-base-py"
  },
  "language_info": {
   "codemirror_mode": {
    "name": "ipython",
    "version": 3
   },
   "file_extension": ".py",
   "mimetype": "text/x-python",
   "name": "python",
   "nbconvert_exporter": "python",
   "pygments_lexer": "ipython3",
   "version": "3.12.7"
  }
 },
 "nbformat": 4,
 "nbformat_minor": 5
}
